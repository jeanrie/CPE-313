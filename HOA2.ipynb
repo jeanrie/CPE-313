{
  "nbformat": 4,
  "nbformat_minor": 0,
  "metadata": {
    "colab": {
      "provenance": []
    },
    "kernelspec": {
      "name": "python3",
      "display_name": "Python 3"
    },
    "language_info": {
      "name": "python"
    }
  },
  "cells": [
    {
      "cell_type": "code",
      "execution_count": 16,
      "metadata": {
        "id": "B1UbpX54Ii2y"
      },
      "outputs": [],
      "source": [
        "import numpy as np\n",
        "\n",
        "class nueron:\n",
        "  def __init__(self, input, weight):\n",
        "    self.weight = weight\n",
        "    self.input = input\n",
        "\n",
        "  def function(self):\n",
        "    function = self.weight + self.input\n",
        "    return function\n",
        "\n",
        "  def ReLU(self, x):\n",
        "    if x>0:\n",
        "      return x\n",
        "    else:\n",
        "      return 0\n",
        "\n",
        "  #input = [1.0, 2.0]\n",
        "  #output = function(ReLU, input)\n",
        "\n",
        "  #print(output)\n",
        "\n"
      ]
    },
    {
      "cell_type": "code",
      "source": [
        "H1 = nueron(1,2)"
      ],
      "metadata": {
        "id": "ZiLDHwQKb50D"
      },
      "execution_count": 17,
      "outputs": []
    },
    {
      "cell_type": "code",
      "source": [
        "H1.function()"
      ],
      "metadata": {
        "colab": {
          "base_uri": "https://localhost:8080/"
        },
        "id": "R7LNFB40cRU7",
        "outputId": "6833ea48-fdae-449b-9bb6-de08f6a4abda"
      },
      "execution_count": 18,
      "outputs": [
        {
          "output_type": "execute_result",
          "data": {
            "text/plain": [
              "3"
            ]
          },
          "metadata": {},
          "execution_count": 18
        }
      ]
    },
    {
      "cell_type": "code",
      "source": [
        "H1.ReLU(-6)"
      ],
      "metadata": {
        "colab": {
          "base_uri": "https://localhost:8080/"
        },
        "id": "ivptb43eeZh7",
        "outputId": "291b2871-f59c-47e6-f4fa-eab227916735"
      },
      "execution_count": 19,
      "outputs": [
        {
          "output_type": "execute_result",
          "data": {
            "text/plain": [
              "0"
            ]
          },
          "metadata": {},
          "execution_count": 19
        }
      ]
    }
  ]
}