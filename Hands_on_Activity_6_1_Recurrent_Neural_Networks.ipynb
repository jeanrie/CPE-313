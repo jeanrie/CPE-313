{
  "cells": [
    {
      "cell_type": "markdown",
      "source": [
        "# Hernandez, Eujean Marie T. <br> CPE32S8"
      ],
      "metadata": {
        "id": "AjikuSW4bodp"
      },
      "id": "AjikuSW4bodp"
    },
    {
      "cell_type": "markdown",
      "id": "fourth-lesbian",
      "metadata": {
        "id": "fourth-lesbian"
      },
      "source": [
        "# Activity 3.1 - Recurrent Neural Networks"
      ]
    },
    {
      "cell_type": "markdown",
      "id": "historical-import",
      "metadata": {
        "id": "historical-import"
      },
      "source": [
        "#### Objective(s):\n",
        "\n",
        "This activity aims to introduce how to build a recurrent neural network"
      ]
    },
    {
      "cell_type": "markdown",
      "id": "related-karma",
      "metadata": {
        "id": "related-karma"
      },
      "source": [
        "#### Intended Learning Outcomes (ILOs):\n",
        "* Demonstrate how to build and train neural recurrent neural network\n",
        "* Evaluate the score and accuracy of the recurrent neural network"
      ]
    },
    {
      "cell_type": "markdown",
      "id": "fossil-thermal",
      "metadata": {
        "id": "fossil-thermal"
      },
      "source": [
        "#### Resources:\n",
        "* Jupyter Notebook\n",
        "* IMDB"
      ]
    },
    {
      "cell_type": "markdown",
      "id": "australian-marketing",
      "metadata": {
        "id": "australian-marketing"
      },
      "source": [
        "#### Procedures\n",
        "Load the necessary libraries"
      ]
    },
    {
      "cell_type": "code",
      "execution_count": 3,
      "id": "based-growing",
      "metadata": {
        "id": "based-growing"
      },
      "outputs": [],
      "source": [
        "from __future__ import print_function\n",
        "import keras\n",
        "from keras.preprocessing import sequence\n",
        "from keras.models import Sequential\n",
        "from keras.layers import Dense, Embedding\n",
        "from keras.layers import SimpleRNN\n",
        "from keras.datasets import imdb\n",
        "from keras import initializers"
      ]
    },
    {
      "cell_type": "markdown",
      "id": "romance-object",
      "metadata": {
        "id": "romance-object"
      },
      "source": [
        "* Set the max_features to 20000\n",
        "* Set the maximum length of a sequence\n",
        "* Use the batch size of 32"
      ]
    },
    {
      "cell_type": "code",
      "execution_count": 2,
      "id": "pending-finance",
      "metadata": {
        "id": "pending-finance"
      },
      "outputs": [],
      "source": [
        "max_features = 20000\n",
        "maxlen = 30\n",
        "batch_size = 32"
      ]
    },
    {
      "cell_type": "markdown",
      "id": "juvenile-defensive",
      "metadata": {
        "id": "juvenile-defensive"
      },
      "source": [
        "Load the data"
      ]
    },
    {
      "cell_type": "code",
      "execution_count": 29,
      "id": "familiar-escape",
      "metadata": {
        "id": "familiar-escape",
        "colab": {
          "base_uri": "https://localhost:8080/",
          "height": 0
        },
        "outputId": "c06fc371-0f05-4f04-8eef-71b68ce219ad"
      },
      "outputs": [
        {
          "output_type": "stream",
          "name": "stdout",
          "text": [
            "25000 train sequences\n",
            "25000 test sequences\n"
          ]
        }
      ],
      "source": [
        "\n",
        "(x_train, y_train), (x_test, y_test) = imdb.load_data(num_words=max_features)\n",
        "print(len(x_train), 'train sequences')\n",
        "print(len(x_test), 'test sequences')"
      ]
    },
    {
      "cell_type": "markdown",
      "id": "hairy-volleyball",
      "metadata": {
        "id": "hairy-volleyball"
      },
      "source": [
        " Truncates the sequences so that they are of the maximum length"
      ]
    },
    {
      "cell_type": "code",
      "execution_count": 30,
      "id": "distant-praise",
      "metadata": {
        "id": "distant-praise",
        "colab": {
          "base_uri": "https://localhost:8080/",
          "height": 0
        },
        "outputId": "417e9e1f-7711-4da9-a177-c3fd29b1c915"
      },
      "outputs": [
        {
          "output_type": "stream",
          "name": "stdout",
          "text": [
            "x_train shape: (25000, 30)\n",
            "x_test shape: (25000, 30)\n"
          ]
        }
      ],
      "source": [
        "\n",
        "x_train = sequence.pad_sequences(x_train, maxlen=maxlen)\n",
        "x_test = sequence.pad_sequences(x_test, maxlen=maxlen)\n",
        "print('x_train shape:', x_train.shape)\n",
        "print('x_test shape:', x_test.shape)"
      ]
    },
    {
      "cell_type": "markdown",
      "source": [
        "Check the example of sequence"
      ],
      "metadata": {
        "id": "NFBgp2etcgmB"
      },
      "id": "NFBgp2etcgmB"
    },
    {
      "cell_type": "code",
      "execution_count": 31,
      "id": "surprising-bacteria",
      "metadata": {
        "id": "surprising-bacteria",
        "colab": {
          "base_uri": "https://localhost:8080/",
          "height": 0
        },
        "outputId": "984a640d-da21-4ad8-d9bd-38de70d927a5"
      },
      "outputs": [
        {
          "output_type": "execute_result",
          "data": {
            "text/plain": [
              "array([  219,   141,    35,   221,   956,    54,    13,    16,    11,\n",
              "        2714,    61,   322,   423,    12,    38,    76,    59,  1803,\n",
              "          72,     8, 10508,    23,     5,   967,    12,    38,    85,\n",
              "          62,   358,    99], dtype=int32)"
            ]
          },
          "metadata": {},
          "execution_count": 31
        }
      ],
      "source": [
        "x_train[123,:]"
      ]
    },
    {
      "cell_type": "markdown",
      "id": "quantitative-breath",
      "metadata": {
        "id": "quantitative-breath"
      },
      "source": [
        "Build a recurrent neural network"
      ]
    },
    {
      "cell_type": "code",
      "execution_count": 32,
      "id": "closed-writer",
      "metadata": {
        "id": "closed-writer"
      },
      "outputs": [],
      "source": [
        "rnn_hidden_dim = 5\n",
        "word_embedding_dim = 50\n",
        "model_rnn = Sequential()\n",
        "model_rnn.add(Embedding(max_features, word_embedding_dim))  #This layer takes each integer in the sequence and embeds it in a 50-dimensional vector\n",
        "model_rnn.add(SimpleRNN(rnn_hidden_dim,\n",
        "                    kernel_initializer=initializers.RandomNormal(stddev=0.001),\n",
        "                    recurrent_initializer=initializers.Identity(gain=1.0),\n",
        "                    activation='relu',\n",
        "                    input_shape=x_train.shape[1:]))\n",
        "\n",
        "model_rnn.add(Dense(1, activation='sigmoid'))"
      ]
    },
    {
      "cell_type": "code",
      "execution_count": 33,
      "id": "developmental-foster",
      "metadata": {
        "id": "developmental-foster",
        "colab": {
          "base_uri": "https://localhost:8080/",
          "height": 0
        },
        "outputId": "21c2cfb0-f61d-4063-87a9-845202bf7c4a"
      },
      "outputs": [
        {
          "output_type": "stream",
          "name": "stderr",
          "text": [
            "WARNING:absl:`lr` is deprecated in Keras optimizer, please use `learning_rate` or use the legacy optimizer, e.g.,tf.keras.optimizers.legacy.RMSprop.\n"
          ]
        }
      ],
      "source": [
        "rmsprop = keras.optimizers.RMSprop(lr = .0001)\n",
        "\n",
        "model_rnn.compile(loss='binary_crossentropy',\n",
        "              optimizer=rmsprop,\n",
        "              metrics=['accuracy'])"
      ]
    },
    {
      "cell_type": "code",
      "source": [
        "import time\n",
        "\n",
        "start_time = time.time()\n",
        "\n",
        "model_rnn.fit(x_train, y_train,\n",
        "              batch_size=batch_size,\n",
        "              epochs=10,\n",
        "              validation_data=(x_test, y_test))\n",
        "\n",
        "end_time = time.time()\n",
        "runtime = end_time - start_time\n",
        "print(\"Training runtime:\", runtime, \"seconds\")\n"
      ],
      "metadata": {
        "colab": {
          "base_uri": "https://localhost:8080/",
          "height": 0
        },
        "id": "F3K_rl8I0WU9",
        "outputId": "8f9966f9-18e8-47f2-ef38-03bbb4323beb"
      },
      "id": "F3K_rl8I0WU9",
      "execution_count": 34,
      "outputs": [
        {
          "output_type": "stream",
          "name": "stdout",
          "text": [
            "Epoch 1/10\n",
            "782/782 [==============================] - 38s 47ms/step - loss: 0.5656 - accuracy: 0.7024 - val_loss: 0.4668 - val_accuracy: 0.7752\n",
            "Epoch 2/10\n",
            "782/782 [==============================] - 30s 38ms/step - loss: 0.4201 - accuracy: 0.8061 - val_loss: 0.4443 - val_accuracy: 0.7861\n",
            "Epoch 3/10\n",
            "782/782 [==============================] - 28s 36ms/step - loss: 0.3810 - accuracy: 0.8268 - val_loss: 0.4560 - val_accuracy: 0.7881\n",
            "Epoch 4/10\n",
            "782/782 [==============================] - 29s 37ms/step - loss: 0.3584 - accuracy: 0.8417 - val_loss: 0.4577 - val_accuracy: 0.7874\n",
            "Epoch 5/10\n",
            "782/782 [==============================] - 27s 34ms/step - loss: 0.3417 - accuracy: 0.8525 - val_loss: 0.4486 - val_accuracy: 0.7884\n",
            "Epoch 6/10\n",
            "782/782 [==============================] - 27s 34ms/step - loss: 0.3270 - accuracy: 0.8602 - val_loss: 0.4621 - val_accuracy: 0.7857\n",
            "Epoch 7/10\n",
            "782/782 [==============================] - 27s 35ms/step - loss: 0.3128 - accuracy: 0.8684 - val_loss: 0.4937 - val_accuracy: 0.7793\n",
            "Epoch 8/10\n",
            "782/782 [==============================] - 28s 35ms/step - loss: 0.3003 - accuracy: 0.8747 - val_loss: 0.4617 - val_accuracy: 0.7871\n",
            "Epoch 9/10\n",
            "782/782 [==============================] - 28s 36ms/step - loss: 0.2876 - accuracy: 0.8808 - val_loss: 0.5237 - val_accuracy: 0.7812\n",
            "Epoch 10/10\n",
            "782/782 [==============================] - 28s 36ms/step - loss: 0.2759 - accuracy: 0.8857 - val_loss: 0.5074 - val_accuracy: 0.7834\n",
            "Training runtime: 288.98017024993896 seconds\n"
          ]
        }
      ]
    },
    {
      "cell_type": "markdown",
      "id": "freelance-proposal",
      "metadata": {
        "id": "freelance-proposal"
      },
      "source": [
        "Evaluate the model using the test set."
      ]
    },
    {
      "cell_type": "code",
      "execution_count": 35,
      "id": "early-connecticut",
      "metadata": {
        "id": "early-connecticut",
        "colab": {
          "base_uri": "https://localhost:8080/",
          "height": 0
        },
        "outputId": "d6180006-017d-4c54-9f23-58affb8802e5"
      },
      "outputs": [
        {
          "output_type": "stream",
          "name": "stdout",
          "text": [
            "782/782 [==============================] - 4s 5ms/step - loss: 0.5074 - accuracy: 0.7834\n",
            "Test score: 0.5074489712715149\n",
            "Test accuracy: 0.7833999991416931\n"
          ]
        }
      ],
      "source": [
        "score, acc = model_rnn.evaluate(x_test, y_test,\n",
        "                            batch_size=batch_size)\n",
        "print('Test score:', score)\n",
        "print('Test accuracy:', acc)"
      ]
    },
    {
      "cell_type": "markdown",
      "id": "miniature-generic",
      "metadata": {
        "id": "miniature-generic"
      },
      "source": [
        "Interpret the result"
      ]
    },
    {
      "cell_type": "markdown",
      "id": "marine-cotton",
      "metadata": {
        "id": "marine-cotton"
      },
      "source": [
        "# The model achieve a low accuracy of 78.34% which indicates that the model is not learning meaningful patterns from the data."
      ]
    },
    {
      "cell_type": "markdown",
      "id": "planned-detection",
      "metadata": {
        "id": "planned-detection"
      },
      "source": [
        "#### Supplementary Activity"
      ]
    },
    {
      "cell_type": "markdown",
      "id": "industrial-frequency",
      "metadata": {
        "id": "industrial-frequency"
      },
      "source": [
        "- Prepare the data to use sequences of length 80 rather than length 30.  Did it improve the performance?\n",
        "- Try different values of the \"max_features\".  Can you improve the performance?\n",
        "- Try smaller and larger sizes of the RNN hidden dimension.  How does it affect the model performance?  How does it affect the run time?"
      ]
    },
    {
      "cell_type": "code",
      "execution_count": 4,
      "id": "important-delight",
      "metadata": {
        "id": "important-delight",
        "colab": {
          "base_uri": "https://localhost:8080/",
          "height": 0
        },
        "outputId": "c3d486a3-bf6a-4a1f-f379-5cf4c9a7e5ff"
      },
      "outputs": [
        {
          "output_type": "stream",
          "name": "stdout",
          "text": [
            "Downloading data from https://storage.googleapis.com/tensorflow/tf-keras-datasets/imdb.npz\n",
            "17464789/17464789 [==============================] - 2s 0us/step\n",
            "25000 train sequences\n",
            "25000 test sequences\n"
          ]
        }
      ],
      "source": [
        "# type your code here\n",
        "\n",
        "\n",
        "max_features = 30000\n",
        "maxlen = 80\n",
        "batch_size = 32\n",
        "\n",
        "maxlen = 80\n",
        "\n",
        "(x_train, y_train), (x_test, y_test) = imdb.load_data(num_words=max_features)\n",
        "print(len(x_train), 'train sequences')\n",
        "print(len(x_test), 'test sequences')"
      ]
    },
    {
      "cell_type": "code",
      "source": [
        "x_train = sequence.pad_sequences(x_train, maxlen=maxlen)\n",
        "x_test = sequence.pad_sequences(x_test, maxlen=maxlen)\n",
        "print('x_train shape:', x_train.shape)\n",
        "print('x_test shape:', x_test.shape)\n"
      ],
      "metadata": {
        "colab": {
          "base_uri": "https://localhost:8080/",
          "height": 0
        },
        "id": "DZABWcyTkOLS",
        "outputId": "4a8968dd-76e5-48ba-c91b-adab00b2cc25"
      },
      "id": "DZABWcyTkOLS",
      "execution_count": 5,
      "outputs": [
        {
          "output_type": "stream",
          "name": "stdout",
          "text": [
            "x_train shape: (25000, 80)\n",
            "x_test shape: (25000, 80)\n"
          ]
        }
      ]
    },
    {
      "cell_type": "code",
      "source": [
        "rnn_hidden_dim = 10\n",
        "word_embedding_dim = 50\n",
        "model_rnn = Sequential()\n",
        "model_rnn.add(Embedding(max_features, word_embedding_dim))  #This layer takes each integer in the sequence and embeds it in a 50-dimensional vector\n",
        "model_rnn.add(SimpleRNN(rnn_hidden_dim,\n",
        "                    kernel_initializer=initializers.RandomNormal(stddev=0.001),\n",
        "                    recurrent_initializer=initializers.Identity(gain=1.0),\n",
        "                    activation='relu',\n",
        "                    input_shape=x_train.shape[1:]))\n",
        "\n",
        "model_rnn.add(Dense(1, activation='sigmoid'))"
      ],
      "metadata": {
        "id": "7PbtbjkdkbXa"
      },
      "id": "7PbtbjkdkbXa",
      "execution_count": 6,
      "outputs": []
    },
    {
      "cell_type": "code",
      "source": [
        "rmsprop = keras.optimizers.RMSprop(lr = .0001)\n",
        "\n",
        "model_rnn.compile(loss='binary_crossentropy',\n",
        "              optimizer=rmsprop,\n",
        "              metrics=['accuracy'])"
      ],
      "metadata": {
        "colab": {
          "base_uri": "https://localhost:8080/",
          "height": 0
        },
        "id": "FuzAqB2YklNU",
        "outputId": "debc9705-d794-4868-c245-a9b052826b6b"
      },
      "id": "FuzAqB2YklNU",
      "execution_count": 7,
      "outputs": [
        {
          "output_type": "stream",
          "name": "stderr",
          "text": [
            "WARNING:absl:`lr` is deprecated in Keras optimizer, please use `learning_rate` or use the legacy optimizer, e.g.,tf.keras.optimizers.legacy.RMSprop.\n"
          ]
        }
      ]
    },
    {
      "cell_type": "code",
      "source": [
        "import time\n",
        "\n",
        "start_time = time.time()\n",
        "\n",
        "model_rnn.fit(x_train, y_train,\n",
        "              batch_size=batch_size,\n",
        "              epochs=10,\n",
        "              validation_data=(x_test, y_test))\n",
        "\n",
        "end_time = time.time()\n",
        "runtime = end_time - start_time\n",
        "print(\"Training runtime:\", runtime, \"seconds\")\n"
      ],
      "metadata": {
        "colab": {
          "base_uri": "https://localhost:8080/",
          "height": 0
        },
        "id": "FoDwD9lLMO2l",
        "outputId": "8f5b5a36-1a4b-40c8-c6e2-a7b3d4876cd5"
      },
      "id": "FoDwD9lLMO2l",
      "execution_count": 8,
      "outputs": [
        {
          "output_type": "stream",
          "name": "stdout",
          "text": [
            "Epoch 1/10\n",
            "782/782 [==============================] - 90s 109ms/step - loss: 0.4935 - accuracy: 0.7409 - val_loss: 0.4269 - val_accuracy: 0.8290\n",
            "Epoch 2/10\n",
            "782/782 [==============================] - 84s 107ms/step - loss: 0.3196 - accuracy: 0.8639 - val_loss: 0.3484 - val_accuracy: 0.8456\n",
            "Epoch 3/10\n",
            "782/782 [==============================] - 71s 90ms/step - loss: 0.2711 - accuracy: 0.8884 - val_loss: 0.3517 - val_accuracy: 0.8448\n",
            "Epoch 4/10\n",
            "782/782 [==============================] - 77s 99ms/step - loss: 0.2379 - accuracy: 0.9038 - val_loss: 0.3933 - val_accuracy: 0.8402\n",
            "Epoch 5/10\n",
            "782/782 [==============================] - 73s 94ms/step - loss: 0.2138 - accuracy: 0.9171 - val_loss: 0.3928 - val_accuracy: 0.8414\n",
            "Epoch 6/10\n",
            "782/782 [==============================] - 76s 97ms/step - loss: 0.1914 - accuracy: 0.9279 - val_loss: 0.4570 - val_accuracy: 0.8324\n",
            "Epoch 7/10\n",
            "782/782 [==============================] - 74s 94ms/step - loss: 0.1716 - accuracy: 0.9366 - val_loss: 0.4425 - val_accuracy: 0.8340\n",
            "Epoch 8/10\n",
            "782/782 [==============================] - 73s 94ms/step - loss: 0.1529 - accuracy: 0.9433 - val_loss: 0.5003 - val_accuracy: 0.8310\n",
            "Epoch 9/10\n",
            "782/782 [==============================] - 76s 98ms/step - loss: 0.1367 - accuracy: 0.9503 - val_loss: 0.5051 - val_accuracy: 0.8291\n",
            "Epoch 10/10\n",
            "782/782 [==============================] - 69s 88ms/step - loss: 0.1227 - accuracy: 0.9575 - val_loss: 0.4593 - val_accuracy: 0.8328\n",
            "Training runtime: 805.3577582836151 seconds\n"
          ]
        }
      ]
    },
    {
      "cell_type": "code",
      "source": [
        "score, acc = model_rnn.evaluate(x_test, y_test,\n",
        "                            batch_size=batch_size)\n",
        "print('Test score:', score)\n",
        "print('Test accuracy:', acc)"
      ],
      "metadata": {
        "colab": {
          "base_uri": "https://localhost:8080/",
          "height": 0
        },
        "id": "I5EoqL8bMQ3k",
        "outputId": "c51a9349-4927-4430-b89c-d0c059cc5711"
      },
      "id": "I5EoqL8bMQ3k",
      "execution_count": 9,
      "outputs": [
        {
          "output_type": "stream",
          "name": "stdout",
          "text": [
            "782/782 [==============================] - 8s 10ms/step - loss: 0.4593 - accuracy: 0.8328\n",
            "Test score: 0.4592815637588501\n",
            "Test accuracy: 0.8328400254249573\n"
          ]
        }
      ]
    },
    {
      "cell_type": "markdown",
      "source": [
        "## Trying rnn_hidden_dim = 3"
      ],
      "metadata": {
        "id": "WrWPfuSbp1Pd"
      },
      "id": "WrWPfuSbp1Pd"
    },
    {
      "cell_type": "code",
      "source": [
        "max_features = 30000\n",
        "maxlen = 80\n",
        "batch_size = 32\n",
        "\n",
        "maxlen = 80\n",
        "\n",
        "(x_train, y_train), (x_test, y_test) = imdb.load_data(num_words=max_features)\n",
        "print(len(x_train), 'train sequences')\n",
        "print(len(x_test), 'test sequences')"
      ],
      "metadata": {
        "colab": {
          "base_uri": "https://localhost:8080/",
          "height": 0
        },
        "id": "CBcvBTOyp4jQ",
        "outputId": "2cc1f97e-a489-4b7a-eb1b-e72335b22046"
      },
      "id": "CBcvBTOyp4jQ",
      "execution_count": 7,
      "outputs": [
        {
          "output_type": "stream",
          "name": "stdout",
          "text": [
            "25000 train sequences\n",
            "25000 test sequences\n"
          ]
        }
      ]
    },
    {
      "cell_type": "code",
      "source": [
        "x_train = sequence.pad_sequences(x_train, maxlen=maxlen)\n",
        "x_test = sequence.pad_sequences(x_test, maxlen=maxlen)\n",
        "print('x_train shape:', x_train.shape)\n",
        "print('x_test shape:', x_test.shape)\n"
      ],
      "metadata": {
        "colab": {
          "base_uri": "https://localhost:8080/",
          "height": 0
        },
        "id": "exRuL3HUp7jy",
        "outputId": "9f388275-de72-48f0-d652-9bcdce8be809"
      },
      "id": "exRuL3HUp7jy",
      "execution_count": 8,
      "outputs": [
        {
          "output_type": "stream",
          "name": "stdout",
          "text": [
            "x_train shape: (25000, 80)\n",
            "x_test shape: (25000, 80)\n"
          ]
        }
      ]
    },
    {
      "cell_type": "code",
      "source": [
        "rnn_hidden_dim = 3\n",
        "word_embedding_dim = 50\n",
        "model_rnn = Sequential()\n",
        "model_rnn.add(Embedding(max_features, word_embedding_dim))  #This layer takes each integer in the sequence and embeds it in a 50-dimensional vector\n",
        "model_rnn.add(SimpleRNN(rnn_hidden_dim,\n",
        "                    kernel_initializer=initializers.RandomNormal(stddev=0.001),\n",
        "                    recurrent_initializer=initializers.Identity(gain=1.0),\n",
        "                    activation='relu',\n",
        "                    input_shape=x_train.shape[1:]))\n",
        "\n",
        "model_rnn.add(Dense(1, activation='sigmoid'))"
      ],
      "metadata": {
        "id": "cpC8Lt5ep-e9"
      },
      "id": "cpC8Lt5ep-e9",
      "execution_count": 9,
      "outputs": []
    },
    {
      "cell_type": "code",
      "source": [
        "rmsprop = keras.optimizers.RMSprop(lr = .0001)\n",
        "\n",
        "model_rnn.compile(loss='binary_crossentropy',\n",
        "              optimizer=rmsprop,\n",
        "              metrics=['accuracy'])"
      ],
      "metadata": {
        "colab": {
          "base_uri": "https://localhost:8080/",
          "height": 0
        },
        "id": "w2K-3kB2qHs3",
        "outputId": "79366b44-3a77-4919-9f8e-50fab8b9efa7"
      },
      "id": "w2K-3kB2qHs3",
      "execution_count": 10,
      "outputs": [
        {
          "output_type": "stream",
          "name": "stderr",
          "text": [
            "WARNING:absl:`lr` is deprecated in Keras optimizer, please use `learning_rate` or use the legacy optimizer, e.g.,tf.keras.optimizers.legacy.RMSprop.\n"
          ]
        }
      ]
    },
    {
      "cell_type": "code",
      "source": [
        "import time\n",
        "\n",
        "start_time = time.time()\n",
        "\n",
        "model_rnn.fit(x_train, y_train,\n",
        "              batch_size=batch_size,\n",
        "              epochs=10,\n",
        "              validation_data=(x_test, y_test))\n",
        "\n",
        "end_time = time.time()\n",
        "runtime = end_time - start_time\n",
        "print(\"Training runtime:\", runtime, \"seconds\")\n"
      ],
      "metadata": {
        "colab": {
          "base_uri": "https://localhost:8080/",
          "height": 0
        },
        "id": "6_P28WmGqMnt",
        "outputId": "bbabcb3d-3b2c-49b9-f1f2-cd9ad69d9797"
      },
      "id": "6_P28WmGqMnt",
      "execution_count": 13,
      "outputs": [
        {
          "output_type": "stream",
          "name": "stdout",
          "text": [
            "Epoch 1/10\n",
            "782/782 [==============================] - 65s 84ms/step - loss: 0.2680 - accuracy: 0.8892 - val_loss: 0.4036 - val_accuracy: 0.8233\n",
            "Epoch 2/10\n",
            "782/782 [==============================] - 69s 89ms/step - loss: 0.2405 - accuracy: 0.9036 - val_loss: 0.3685 - val_accuracy: 0.8427\n",
            "Epoch 3/10\n",
            "782/782 [==============================] - 68s 87ms/step - loss: 0.2170 - accuracy: 0.9152 - val_loss: 0.3978 - val_accuracy: 0.8385\n",
            "Epoch 4/10\n",
            "782/782 [==============================] - 67s 86ms/step - loss: 0.1979 - accuracy: 0.9244 - val_loss: 0.4152 - val_accuracy: 0.8324\n",
            "Epoch 5/10\n",
            "782/782 [==============================] - 69s 88ms/step - loss: 0.1838 - accuracy: 0.9304 - val_loss: 0.4075 - val_accuracy: 0.8316\n",
            "Epoch 6/10\n",
            "782/782 [==============================] - 64s 82ms/step - loss: 0.1707 - accuracy: 0.9366 - val_loss: 0.4783 - val_accuracy: 0.8204\n",
            "Epoch 7/10\n",
            "782/782 [==============================] - 67s 86ms/step - loss: 0.1581 - accuracy: 0.9421 - val_loss: 0.5405 - val_accuracy: 0.8097\n",
            "Epoch 8/10\n",
            "782/782 [==============================] - 67s 85ms/step - loss: 0.1472 - accuracy: 0.9476 - val_loss: 0.4745 - val_accuracy: 0.8271\n",
            "Epoch 9/10\n",
            "782/782 [==============================] - 64s 82ms/step - loss: 0.1374 - accuracy: 0.9505 - val_loss: 0.5471 - val_accuracy: 0.8228\n",
            "Epoch 10/10\n",
            "782/782 [==============================] - 68s 88ms/step - loss: 0.1299 - accuracy: 0.9543 - val_loss: 0.5453 - val_accuracy: 0.8252\n",
            "Training runtime: 670.28781914711 seconds\n"
          ]
        }
      ]
    },
    {
      "cell_type": "code",
      "source": [
        "score, acc = model_rnn.evaluate(x_test, y_test,\n",
        "                            batch_size=batch_size)\n",
        "print('Test score:', score)\n",
        "print('Test accuracy:', acc)"
      ],
      "metadata": {
        "colab": {
          "base_uri": "https://localhost:8080/",
          "height": 0
        },
        "id": "CNUyOoDowI5t",
        "outputId": "89543d07-cb84-4d9a-b217-5d91ce8c2871"
      },
      "id": "CNUyOoDowI5t",
      "execution_count": 14,
      "outputs": [
        {
          "output_type": "stream",
          "name": "stdout",
          "text": [
            "782/782 [==============================] - 9s 11ms/step - loss: 0.5453 - accuracy: 0.8252\n",
            "Test score: 0.5453377962112427\n",
            "Test accuracy: 0.825160026550293\n"
          ]
        }
      ]
    },
    {
      "cell_type": "markdown",
      "id": "limiting-bachelor",
      "metadata": {
        "id": "limiting-bachelor"
      },
      "source": [
        "#type your answer here\n",
        "\n",
        "**Prepare the data to use sequences of length 80 rather than length 30.  Did it improve the performance?** <br>\n",
        "- Yes, increasing the sequence length from 30 to 80 improved the model's performance, with accuracy rising from 78.34% to 83.28%.\n",
        "\n",
        "\n",
        "**Try different values of the \"max_features\".  Can you improve the performance?** <br>\n",
        "- Increasing max_features to 30000  improved the model's performance because it considered a larger vocabulary, capturing more diverse patterns in the data.\n",
        "\n",
        "\n",
        "\n",
        "**Try smaller and larger sizes of the RNN hidden dimension.  How does it affect the model performance?  How does it affect the run time?** <br>\n",
        "- Increasing the size of the RNN hidden dimension increased the training time because the model needs more computation to learn and capture the patterns of the data."
      ]
    },
    {
      "cell_type": "markdown",
      "id": "signal-federal",
      "metadata": {
        "id": "signal-federal"
      },
      "source": [
        "#### Conclusion"
      ]
    },
    {
      "cell_type": "markdown",
      "id": "interpreted-stadium",
      "metadata": {
        "id": "interpreted-stadium"
      },
      "source": [
        "## In this activity, I explored the construction and training of a recurrent neural network using the IMDB dataset. I learned that adjusting parameters such as sequence length, max_features, and hidden dimension layers can significantly impact the model's performance. After experimentation, I achieved an accuracy of 83.28% using a sequence length of 80, 30000 max features, and a hidden dimension of 10."
      ]
    },
    {
      "cell_type": "markdown",
      "source": [
        "Google Colab Link: https://colab.research.google.com/drive/1fUz7hNGuuO3Yq0Y2hlBu4v8SE4710KNT?usp=sharing"
      ],
      "metadata": {
        "id": "LTj_m1hjcCLG"
      },
      "id": "LTj_m1hjcCLG"
    }
  ],
  "metadata": {
    "kernelspec": {
      "display_name": "Python 3",
      "name": "python3"
    },
    "language_info": {
      "codemirror_mode": {
        "name": "ipython",
        "version": 3
      },
      "file_extension": ".py",
      "mimetype": "text/x-python",
      "name": "python",
      "nbconvert_exporter": "python",
      "pygments_lexer": "ipython3",
      "version": "3.7.10"
    },
    "colab": {
      "provenance": [],
      "gpuType": "T4"
    },
    "accelerator": "GPU"
  },
  "nbformat": 4,
  "nbformat_minor": 5
}